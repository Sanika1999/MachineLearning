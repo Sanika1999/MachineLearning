{
  "nbformat": 4,
  "nbformat_minor": 0,
  "metadata": {
    "colab": {
      "name": "Untitled0.ipynb",
      "provenance": [],
      "toc_visible": true
    },
    "kernelspec": {
      "name": "python3",
      "display_name": "Python 3"
    }
  },
  "cells": [
    {
      "cell_type": "markdown",
      "metadata": {
        "id": "nVwT6SAVYmrd"
      },
      "source": [
        "#**Polynomial Regression**"
      ]
    },
    {
      "cell_type": "markdown",
      "metadata": {
        "id": "ubwOkXooY_P4"
      },
      "source": [
        "Importing Libraries"
      ]
    },
    {
      "cell_type": "code",
      "metadata": {
        "id": "2n382ImGZCs4"
      },
      "source": [
        "import numpy as np\n",
        "import pandas as pd\n",
        "import matplotlib.pyplot as plt\n"
      ],
      "execution_count": 1,
      "outputs": []
    },
    {
      "cell_type": "markdown",
      "metadata": {
        "id": "6nnXDKAFZMdB"
      },
      "source": [
        "Importing Dataset"
      ]
    },
    {
      "cell_type": "code",
      "metadata": {
        "id": "02W9hGLiZPPL"
      },
      "source": [
        "dataset=pd.read_csv('Position_Salaries.csv')\n",
        "X = dataset.iloc[:, 1:-1].values\n",
        "y = dataset.iloc[:, -1].values\n"
      ],
      "execution_count": 8,
      "outputs": []
    },
    {
      "cell_type": "markdown",
      "metadata": {
        "id": "tlfnZBGAbXYQ"
      },
      "source": [
        "Train linear regression"
      ]
    },
    {
      "cell_type": "code",
      "metadata": {
        "id": "N9s_CdbSbaO5",
        "outputId": "2aea1b15-f950-4883-9a9d-8294aa9c79c0",
        "colab": {
          "base_uri": "https://localhost:8080/",
          "height": 34
        }
      },
      "source": [
        "from sklearn.linear_model import LinearRegression\n",
        "lin_reg=LinearRegression()\n",
        "lin_reg.fit(X,y)"
      ],
      "execution_count": 10,
      "outputs": [
        {
          "output_type": "execute_result",
          "data": {
            "text/plain": [
              "LinearRegression(copy_X=True, fit_intercept=True, n_jobs=None, normalize=False)"
            ]
          },
          "metadata": {
            "tags": []
          },
          "execution_count": 10
        }
      ]
    },
    {
      "cell_type": "markdown",
      "metadata": {
        "id": "uO0ipM4w-rxN"
      },
      "source": [
        "Train Polynomial Regression"
      ]
    },
    {
      "cell_type": "code",
      "metadata": {
        "id": "XAD8wySQ-xJL",
        "outputId": "649971e0-aeb2-4174-af86-61fd8d2b7db5",
        "colab": {
          "base_uri": "https://localhost:8080/",
          "height": 34
        }
      },
      "source": [
        "#y=b0+b1x1+b2(x1^2)+......+bn(x1^n)  <- polynomialregression\n",
        "#hence we need to create a matrix of features containing x1,x1^2...,x1^n\n",
        "from sklearn.preprocessing import PolynomialFeatures\n",
        "poly_reg=PolynomialFeatures(degree=4)\n",
        "X_poly=poly_reg.fit_transform(X)\n",
        "#now apply linear regression to x_poly and y\n",
        "from sklearn.linear_model import LinearRegression\n",
        "lin_reg_2=LinearRegression()\n",
        "lin_reg_2.fit(X_poly,y)\n"
      ],
      "execution_count": 20,
      "outputs": [
        {
          "output_type": "execute_result",
          "data": {
            "text/plain": [
              "LinearRegression(copy_X=True, fit_intercept=True, n_jobs=None, normalize=False)"
            ]
          },
          "metadata": {
            "tags": []
          },
          "execution_count": 20
        }
      ]
    },
    {
      "cell_type": "markdown",
      "metadata": {
        "id": "IjVkXAxXCelp"
      },
      "source": [
        "Visualize Linear Regression"
      ]
    },
    {
      "cell_type": "code",
      "metadata": {
        "id": "Ve4dnF40CiDL",
        "outputId": "16bed339-5ce4-4971-b659-69dbb9cc8048",
        "colab": {
          "base_uri": "https://localhost:8080/",
          "height": 295
        }
      },
      "source": [
        "plt.scatter(X,y,color='pink')\n",
        "plt.plot(X,lin_reg.predict(X),color='blue')\n",
        "plt.title('Linear Reg')\n",
        "plt.xlabel('position')\n",
        "plt.ylabel('salary')\n",
        "plt.show()\n"
      ],
      "execution_count": 14,
      "outputs": [
        {
          "output_type": "display_data",
          "data": {
            "image/png": "[encoded data removed]",
            "text/plain": [
              "<Figure size 432x288 with 1 Axes>"
            ]
          },
          "metadata": {
            "tags": [],
            "needs_background": "light"
          }
        }
      ]
    },
    {
      "cell_type": "markdown",
      "metadata": {
        "id": "CvSWNCTYFci_"
      },
      "source": [
        "Visualize Polynomial Regression"
      ]
    },
    {
      "cell_type": "code",
      "metadata": {
        "id": "SJT2n3i4FhWQ",
        "outputId": "04e88086-a8fd-482f-d0bc-8b88e8505099",
        "colab": {
          "base_uri": "https://localhost:8080/",
          "height": 295
        }
      },
      "source": [
        "plt.scatter(X,y,color='pink')\n",
        "plt.plot(X,lin_reg_2.predict(X_poly),color='blue')\n",
        "plt.title('Poly Reg')\n",
        "plt.xlabel('position')\n",
        "plt.ylabel('salary')\n",
        "plt.show()"
      ],
      "execution_count": 21,
      "outputs": [
        {
          "output_type": "display_data",
          "data": {
            "image/png": "[encoded data removed]",
            "text/plain": [
              "<Figure size 432x288 with 1 Axes>"
            ]
          },
          "metadata": {
            "tags": [],
            "needs_background": "light"
          }
        }
      ]
    },
    {
      "cell_type": "markdown",
      "metadata": {
        "id": "9k3fXyw6FtmY"
      },
      "source": [
        "Predict Single value -Linear Regression"
      ]
    },
    {
      "cell_type": "code",
      "metadata": {
        "id": "cVAZLm1AGkz-",
        "outputId": "ff22117a-30c6-4411-befe-d33347b1b853",
        "colab": {
          "base_uri": "https://localhost:8080/",
          "height": 34
        }
      },
      "source": [
        "#parameter required is a 2 d array hence double brackets\n",
        "lin_reg.predict([[6.5]])"
      ],
      "execution_count": 22,
      "outputs": [
        {
          "output_type": "execute_result",
          "data": {
            "text/plain": [
              "array([330378.78787879])"
            ]
          },
          "metadata": {
            "tags": []
          },
          "execution_count": 22
        }
      ]
    },
    {
      "cell_type": "markdown",
      "metadata": {
        "id": "QcnQDi4YIEDl"
      },
      "source": [
        "Predict Single value -Poly Regression"
      ]
    },
    {
      "cell_type": "code",
      "metadata": {
        "id": "kCEeeGwwIDM1",
        "outputId": "202137cd-4896-47db-ac06-d0a6ae245b0f",
        "colab": {
          "base_uri": "https://localhost:8080/",
          "height": 34
        }
      },
      "source": [
        "lin_reg_2.predict(poly_reg.fit_transform([[6.5]]))"
      ],
      "execution_count": 23,
      "outputs": [
        {
          "output_type": "execute_result",
          "data": {
            "text/plain": [
              "array([158862.45265155])"
            ]
          },
          "metadata": {
            "tags": []
          },
          "execution_count": 23
        }
      ]
    }
  ]
}
